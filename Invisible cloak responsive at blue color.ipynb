{
 "cells": [
  {
   "cell_type": "code",
   "execution_count": 1,
   "metadata": {},
   "outputs": [],
   "source": [
    "import cv2\n",
    "import numpy as np"
   ]
  },
  {
   "cell_type": "code",
   "execution_count": 2,
   "metadata": {},
   "outputs": [],
   "source": [
    "#if u=you are y=using a external web cam the replace 0 by 1\n",
    "cap = cv2.VideoCapture(0)\n",
    "\n",
    "background = 0 #this will save background image for the program\n",
    "\n",
    "for i in range(60):\n",
    "    ret,background = cap.read()\n",
    "    \n",
    "#to get mirror effect we will flip background\n",
    "background = np.flip(background , axis = 1)\n",
    "\n",
    "while(True):\n",
    "    ret,img = cap.read()\n",
    "    \n",
    "    #to get mirror effect we will flip img\n",
    "    img = np.flip(img,axis=1)\n",
    "    \n",
    "    #converting our image to HSV (hue saturation value)\n",
    "    \n",
    "    hsv = cv2.cvtColor(img,cv2.COLOR_BGR2HSV)\n",
    "    \n",
    "    #detecting lower range of blue\n",
    "    lower_blue = np.array([98,109,20])\n",
    "    upper_blue = np.array([112,255,255])\n",
    "    mask_1 = cv2.inRange(hsv,lower_blue,upper_blue)\n",
    "    \n",
    "    #detecting higher range of blue\n",
    "    lower_blue = np.array([240,109,20])\n",
    "    upper_blue = np.array([255,255,255])\n",
    "    mask_2 = cv2.inRange(hsv,lower_blue,upper_blue)\n",
    "    \n",
    "    #For generations of final mask\n",
    "    #matrix addition\n",
    "    mask_1 = mask_1+mask_2\n",
    "    \n",
    "    #Segmentation of blue colour from mask\n",
    "    mask_1 = cv2.morphologyEx(mask_1, cv2.MORPH_OPEN, np.ones((3,3),np.uint8))#to remove noise\n",
    "    mask_1 = cv2.morphologyEx(mask_1, cv2.MORPH_DILATE, np.ones((3,3),np.uint8))#to dialate\n",
    "    \n",
    "    #in mask 1 we have a image that only shows blue cloth\n",
    " \n",
    "    #creating an inverted mask to segment out the cloth from the frame\n",
    "    mask_2 = cv2.bitwise_not(mask_1) #if you have black it will give tou white\n",
    " \n",
    "    #in mask 2 we have a image that shows Everything except cloth\n",
    " \n",
    "    #Segmenting the cloth out of the frame using bitwise and with the inverted mask\n",
    "    res1 = cv2.bitwise_and(img,img,mask=mask_2)\n",
    "    \n",
    "    # creating image showing static background frame pixels only for the masked region\n",
    "    res2 = cv2.bitwise_and(background, background, mask = mask_1)\n",
    " \n",
    " \n",
    "    #Generating the final output\n",
    "    final_output = cv2.addWeighted(res1,1,res2,1,0)\n",
    "    cv2.imshow(\"magic\",final_output)\n",
    "    \n",
    "    #press esc for quiting\n",
    "    if cv2.waitKey(10) == 27:\n",
    "        break\n",
    "        \n",
    "cap.release()\n",
    "cv2.destroyWindow('magic')\n",
    "    "
   ]
  },
  {
   "cell_type": "code",
   "execution_count": null,
   "metadata": {},
   "outputs": [],
   "source": []
  }
 ],
 "metadata": {
  "kernelspec": {
   "display_name": "Python 3",
   "language": "python",
   "name": "python3"
  },
  "language_info": {
   "codemirror_mode": {
    "name": "ipython",
    "version": 3
   },
   "file_extension": ".py",
   "mimetype": "text/x-python",
   "name": "python",
   "nbconvert_exporter": "python",
   "pygments_lexer": "ipython3",
   "version": "3.7.4"
  }
 },
 "nbformat": 4,
 "nbformat_minor": 2
}
