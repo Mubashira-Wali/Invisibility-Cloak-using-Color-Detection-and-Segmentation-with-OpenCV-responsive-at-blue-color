{
  "nbformat": 4,
  "nbformat_minor": 0,
  "metadata": {
    "colab": {
      "name": "digit-classifier-tensorflow.ipynb",
      "provenance": [],
      "toc_visible": true,
      "authorship_tag": "ABX9TyPYBXXub4ntNlbYoZvyFzeJ",
      "include_colab_link": true
    },
    "kernelspec": {
      "name": "python3",
      "display_name": "Python 3"
    }
  },
  "cells": [
    {
      "cell_type": "markdown",
      "metadata": {
        "id": "view-in-github",
        "colab_type": "text"
      },
      "source": [
        "<a href=\"https://colab.research.google.com/github/Mubashira-Wali/Invisibility-Cloak-using-Color-Detection-and-Segmentation-with-OpenCV-responsive-at-blue-color/blob/master/digit_classifier_tensorflow.ipynb\" target=\"_parent\"><img src=\"https://colab.research.google.com/assets/colab-badge.svg\" alt=\"Open In Colab\"/></a>"
      ]
    },
    {
      "cell_type": "code",
      "metadata": {
        "id": "XbfC20aqDKIR",
        "colab_type": "code",
        "colab": {}
      },
      "source": [
        "import tensorflow as tf\n",
        "\n",
        "!pip install --upgrade tensorflow"
      ],
      "execution_count": 0,
      "outputs": []
    },
    {
      "cell_type": "code",
      "metadata": {
        "id": "q-5okdHxEA1a",
        "colab_type": "code",
        "colab": {}
      },
      "source": [
        "import tensorflow as tf\n"
      ],
      "execution_count": 0,
      "outputs": []
    },
    {
      "cell_type": "code",
      "metadata": {
        "id": "L10B7_DgEhRW",
        "colab_type": "code",
        "colab": {}
      },
      "source": [
        "print(tf.__version__)"
      ],
      "execution_count": 0,
      "outputs": []
    },
    {
      "cell_type": "code",
      "metadata": {
        "id": "kFOa0lk7E5kC",
        "colab_type": "code",
        "colab": {}
      },
      "source": [
        "from tensorflow.keras.datasets import mnist\n",
        "(train_images, train_labels),(test_images, test_labels) = mnist.load_data()"
      ],
      "execution_count": 0,
      "outputs": []
    },
    {
      "cell_type": "code",
      "metadata": {
        "id": "VGbni4LGTGmp",
        "colab_type": "code",
        "colab": {}
      },
      "source": [
        "from tensorflow.keras import models\n",
        "from tensorflow.keras import layers\n",
        "network=models.Sequential()\n",
        "network.add(layers.Dense(512, activation='relu', input_shape=(28 * 28,)))\n",
        "network.add(layers.Dense(10, activation='softmax'))"
      ],
      "execution_count": 0,
      "outputs": []
    },
    {
      "cell_type": "code",
      "metadata": {
        "id": "feaVmcyMxlfl",
        "colab_type": "code",
        "colab": {}
      },
      "source": [
        "network.compile(optimizer='rmsprop', loss='categorical_crossentropy',metrics=['accuracy'])"
      ],
      "execution_count": 0,
      "outputs": []
    },
    {
      "cell_type": "code",
      "metadata": {
        "id": "RZP-_K170e03",
        "colab_type": "code",
        "colab": {}
      },
      "source": [
        "train_images=train_images.reshape((60000,28*28))\n",
        "train_images=train_images.astype('float32')/255\n",
        "\n",
        "test_images=test_images.reshape((10000,28*28))\n",
        "test_images=test_images.astype('float32')/255"
      ],
      "execution_count": 0,
      "outputs": []
    },
    {
      "cell_type": "code",
      "metadata": {
        "id": "O__yzgpl2odZ",
        "colab_type": "code",
        "colab": {}
      },
      "source": [
        "from tensorflow.keras.utils import to_categorical\n",
        "train_labels=to_categorical(train_labels)\n",
        "test_labels=to_categorical(test_labels)"
      ],
      "execution_count": 0,
      "outputs": []
    },
    {
      "cell_type": "code",
      "metadata": {
        "id": "owE4AwH93Shv",
        "colab_type": "code",
        "colab": {
          "base_uri": "https://localhost:8080/",
          "height": 391
        },
        "outputId": "d468ceea-c141-4850-8958-a5098b5961e1"
      },
      "source": [
        "network.fit(train_images,train_labels, epochs=10, batch_size=128)"
      ],
      "execution_count": 16,
      "outputs": [
        {
          "output_type": "stream",
          "text": [
            "Train on 60000 samples\n",
            "Epoch 1/10\n",
            "60000/60000 [==============================] - 4s 68us/sample - loss: 0.3035 - accuracy: 0.9129\n",
            "Epoch 2/10\n",
            "60000/60000 [==============================] - 4s 69us/sample - loss: 0.2892 - accuracy: 0.9164\n",
            "Epoch 3/10\n",
            "60000/60000 [==============================] - 4s 64us/sample - loss: 0.2769 - accuracy: 0.9205\n",
            "Epoch 4/10\n",
            "60000/60000 [==============================] - 4s 61us/sample - loss: 0.2661 - accuracy: 0.9226\n",
            "Epoch 5/10\n",
            "60000/60000 [==============================] - 4s 61us/sample - loss: 0.2555 - accuracy: 0.9258\n",
            "Epoch 6/10\n",
            "60000/60000 [==============================] - 4s 62us/sample - loss: 0.2455 - accuracy: 0.9293\n",
            "Epoch 7/10\n",
            "60000/60000 [==============================] - 4s 63us/sample - loss: 0.2356 - accuracy: 0.9323\n",
            "Epoch 8/10\n",
            "60000/60000 [==============================] - 4s 62us/sample - loss: 0.2261 - accuracy: 0.9352\n",
            "Epoch 9/10\n",
            "60000/60000 [==============================] - 4s 65us/sample - loss: 0.2167 - accuracy: 0.9377\n",
            "Epoch 10/10\n",
            "60000/60000 [==============================] - 4s 66us/sample - loss: 0.2079 - accuracy: 0.9406\n"
          ],
          "name": "stdout"
        },
        {
          "output_type": "execute_result",
          "data": {
            "text/plain": [
              "<tensorflow.python.keras.callbacks.History at 0x7f21d6175390>"
            ]
          },
          "metadata": {
            "tags": []
          },
          "execution_count": 16
        }
      ]
    },
    {
      "cell_type": "code",
      "metadata": {
        "id": "LGVfxqcs3tX-",
        "colab_type": "code",
        "colab": {
          "base_uri": "https://localhost:8080/",
          "height": 51
        },
        "outputId": "f43f2ad9-ae75-4b67-ef08-9fda0292b171"
      },
      "source": [
        "test_loss,test_acc=network.evaluate(test_images,test_labels)\n",
        "print('Test Accuracy:',test_acc)"
      ],
      "execution_count": 18,
      "outputs": [
        {
          "output_type": "stream",
          "text": [
            "10000/10000 [==============================] - 1s 71us/sample - loss: 26.0765 - accuracy: 0.9165\n",
            "Test Accuracy: 0.9165\n"
          ],
          "name": "stdout"
        }
      ]
    },
    {
      "cell_type": "code",
      "metadata": {
        "id": "Z6tNI2ef4ku3",
        "colab_type": "code",
        "colab": {}
      },
      "source": [
        ""
      ],
      "execution_count": 0,
      "outputs": []
    }
  ]
}